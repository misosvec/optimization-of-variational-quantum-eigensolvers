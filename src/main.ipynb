{
 "cells": [
  {
   "cell_type": "code",
   "execution_count": null,
   "metadata": {},
   "outputs": [],
   "source": [
    "!pip install 'qiskit[visualization]'\n",
    "!pip install qiskit-aer\n",
    "!pip install qiskit-symb"
   ]
  },
  {
   "cell_type": "code",
   "execution_count": null,
   "metadata": {},
   "outputs": [],
   "source": [
    "from qiskit import QuantumCircuit, transpile, execute\n",
    "from qiskit.circuit import Parameter \n",
    "from qiskit_aer import AerSimulator, StatevectorSimulator, UnitarySimulator\n",
    "from qiskit.quantum_info import Statevector, Operator\n",
    "from qiskit.visualization import plot_histogram\n",
    "from qiskit.visualization import plot_bloch_vector, plot_bloch_multivector\n",
    "from math import radians, pi\n",
    "from qiskit.visualization.array import array_to_latex\n",
    "\n",
    "\n",
    "ss = StatevectorSimulator()\n",
    "us = UnitarySimulator()\n",
    "\n",
    "c = QuantumCircuit(3, 3)\n",
    "\n",
    "t1 = Parameter('t1')\n",
    "t2 = Parameter('t2')\n",
    "t3 = Parameter('t3')\n",
    "t4 = Parameter('t4')\n",
    "t5 = Parameter('t5')\n",
    "t6 = Parameter('t6')\n",
    "t7 = Parameter('t7')\n",
    "t8 = Parameter('t8')\n",
    "t9 = Parameter('t9')\n",
    "\n",
    "c.ry(t1, 0)\n",
    "c.ry(t2, 1)\n",
    "c.ry(t3, 2)\n",
    "\n",
    "c.cx(0, 1)\n",
    "c.cx(1, 2)\n",
    "\n",
    "c.barrier()\n",
    "\n",
    "c.ry(t4, 0)\n",
    "c.ry(t5, 1)\n",
    "c.ry(t6, 2)\n",
    "\n",
    "c.cx(0, 1)\n",
    "c.cx(1, 2)\n",
    "\n",
    "c.barrier()\n",
    "\n",
    "c.ry(t7, 0)\n",
    "c.ry(t8, 1)\n",
    "c.ry(t9, 2)\n",
    "\n",
    "c.cx(0, 1)\n",
    "c.cx(1, 2)\n",
    "# TODO parametr \n",
    "\n",
    "c.draw('mpl')"
   ]
  },
  {
   "cell_type": "markdown",
   "metadata": {},
   "source": [
    "### Plot qubits"
   ]
  },
  {
   "cell_type": "code",
   "execution_count": null,
   "metadata": {},
   "outputs": [],
   "source": [
    "# draw quibits\n",
    "state = Statevector(c)\n",
    "array_to_latex(state.data)\n",
    "# print(state)\n",
    "# plot_bloch_multivector(state)"
   ]
  },
  {
   "cell_type": "markdown",
   "metadata": {},
   "source": [
    "### Prints unitary matrix of the circuit"
   ]
  },
  {
   "cell_type": "code",
   "execution_count": null,
   "metadata": {},
   "outputs": [],
   "source": [
    "# prints unitary matrix of the quantum circuit\n",
    "job = execute(c,us)\n",
    "result = job.result()\n",
    "\n",
    "array_to_latex(result.get_unitary(c, decimals=3))"
   ]
  },
  {
   "cell_type": "markdown",
   "metadata": {},
   "source": [
    "##### this produces the same output"
   ]
  },
  {
   "cell_type": "code",
   "execution_count": null,
   "metadata": {},
   "outputs": [],
   "source": [
    "array_to_latex(Operator(c))"
   ]
  },
  {
   "cell_type": "markdown",
   "metadata": {},
   "source": [
    "## Get statevector from circuit"
   ]
  },
  {
   "cell_type": "code",
   "execution_count": null,
   "metadata": {},
   "outputs": [],
   "source": [
    "sv = Statevector(c) # .from_instruction(c) does the same\n",
    "sv.draw('latex')"
   ]
  },
  {
   "cell_type": "markdown",
   "metadata": {},
   "source": [
    "## Get parametrized unitary matrix\n",
    "- this does not work in qiskit, we need to use pyket library"
   ]
  },
  {
   "cell_type": "code",
   "execution_count": null,
   "metadata": {},
   "outputs": [],
   "source": [
    "from pytket.extensions.qiskit import qiskit_to_tk\n",
    "from pytket.utils.symbolic import circuit_to_symbolic_unitary\n",
    "\n",
    "# optional to change qubit ordering -- qc = qc.reverse_bits() \n",
    "tkc = qiskit_to_tk(c)\n",
    "mtx = circuit_to_symbolic_unitary(tkc)\n",
    "array_to_latex(mtx)"
   ]
  },
  {
   "cell_type": "markdown",
   "metadata": {},
   "source": [
    "## Solve a system of linear complex equations\n",
    "$Ax = b$"
   ]
  },
  {
   "cell_type": "code",
   "execution_count": null,
   "metadata": {},
   "outputs": [],
   "source": [
    "from qiskit_symb.quantum_info import Operator as SymbOperator\n",
    "\n",
    "\n",
    "a = SymbOperator(c)\n",
    "\n",
    "a.to_sympy()\n",
    "# print(a.data)\n",
    "array_to_latex(prefix=\"A=\", array=a)\n",
    "# x - intial state, first row 1, other zero\n",
    "\n",
    "\n"
   ]
  },
  {
   "cell_type": "code",
   "execution_count": null,
   "metadata": {},
   "outputs": [],
   "source": [
    "b = Statevector(c)\n",
    "array_to_latex(prefix=\"b=\", array=b)"
   ]
  },
  {
   "cell_type": "code",
   "execution_count": null,
   "metadata": {},
   "outputs": [],
   "source": [
    "import numpy as np\n",
    "\n",
    "x = [1,0,0,0,0,0,0,0]\n",
    "# multiply with x instead of b, a times x, I will get a vector which has all the parameters inside\n",
    "# x = initail state,corresponds to quibit 000\n",
    "# Ax=b\n",
    "# b is also a vector of dimension 8x1, compare ax with b, compare elementwise\n",
    "# if it is solvable, then preparation covers state \n",
    "b = np.linalg.solve(a, x)\n",
    "print(a)\n",
    "print(x)\n",
    "print(b)\n",
    "array_to_latex(prefix=\"x=\", array=b)"
   ]
  },
  {
   "cell_type": "markdown",
   "metadata": {},
   "source": [
    "### An example of system of 2 complex linear equations"
   ]
  },
  {
   "cell_type": "code",
   "execution_count": null,
   "metadata": {},
   "outputs": [],
   "source": [
    "import numpy as np\n",
    "\n",
    "a = np.array([[3, 0+2j], [1-1j, -1]])\n",
    "b = np.array([5+7j, 0+1j])\n",
    "\n",
    "x = np.linalg.solve(a, b)\n",
    "\n",
    "array_to_latex(x)"
   ]
  },
  {
   "cell_type": "markdown",
   "metadata": {},
   "source": [
    "### Way to initialize circuit with a matrix"
   ]
  },
  {
   "cell_type": "code",
   "execution_count": null,
   "metadata": {},
   "outputs": [],
   "source": [
    "\n",
    "from qiskit import QuantumRegister, QuantumCircuit\n",
    "from qiskit.quantum_info.operators import Operator\n",
    "\n",
    "q =  QuantumRegister(2,\"qreg\")\n",
    "qc = QuantumCircuit(q)\n",
    "\n",
    "customUnitary = Operator([\n",
    "    [1, 0, 0, 0],\n",
    "    [0, 0, 0, 1],\n",
    "    [0, 0, 1, 0],\n",
    "    [0, 1, 0, 0]\n",
    "])\n",
    "qc.unitary(customUnitary, [q[0], q[1]], label='custom')\n",
    "qc.draw(output='mpl')"
   ]
  },
  {
   "cell_type": "markdown",
   "metadata": {},
   "source": [
    "### Prints Bloch spheres for presentation"
   ]
  },
  {
   "cell_type": "code",
   "execution_count": null,
   "metadata": {},
   "outputs": [],
   "source": [
    "import numpy as np\n",
    "# zero qubit \n",
    "# plot_bloch_vector([0,0,1], font_size=70, figsize=(10, 10))\n",
    "# one qubit\n",
    "# plot_bloch_vector([0,0,-1], font_size=70, figsize=(10, 10))\n",
    "# hadamard\n",
    "plot_bloch_vector([1,0,0], font_size=70, figsize=(10, 10))"
   ]
  },
  {
   "cell_type": "markdown",
   "metadata": {},
   "source": [
    "### Plot multivector"
   ]
  },
  {
   "cell_type": "code",
   "execution_count": null,
   "metadata": {},
   "outputs": [],
   "source": [
    "qc = QuantumCircuit(2,2)\n",
    "\n",
    "qc.h(0)\n",
    "qc.cx(0,1)\n",
    "# qc.ry(3.14,0)\n",
    "plot_bloch_multivector(Statevector(qc))"
   ]
  }
 ],
 "metadata": {
  "kernelspec": {
   "display_name": "venv",
   "language": "python",
   "name": "python3"
  },
  "language_info": {
   "codemirror_mode": {
    "name": "ipython",
    "version": 3
   },
   "file_extension": ".py",
   "mimetype": "text/x-python",
   "name": "python",
   "nbconvert_exporter": "python",
   "pygments_lexer": "ipython3",
   "version": "3.11.6"
  }
 },
 "nbformat": 4,
 "nbformat_minor": 2
}
