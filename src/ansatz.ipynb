{
 "cells": [
  {
   "cell_type": "code",
   "execution_count": null,
   "metadata": {},
   "outputs": [],
   "source": [
    "from qiskit.circuit.library import TwoLocal\n",
    "\n",
    "NUM_QUBITS = 4\n",
    "INSERT_BARRIES = True\n",
    "ROTATION_BLOCKS = ['ry', 'rz']\n",
    "ENTANGLEMENT_BLOCKS = ['cx']\n",
    "REPS = 3"
   ]
  },
  {
   "cell_type": "markdown",
   "metadata": {},
   "source": [
    "### Linear entanglement ansatz"
   ]
  },
  {
   "cell_type": "code",
   "execution_count": 8,
   "metadata": {},
   "outputs": [
    {
     "name": "stdout",
     "output_type": "stream",
     "text": [
      "Stored 'linear_ansatz' (TwoLocal)\n"
     ]
    }
   ],
   "source": [
    "linear_ansatz = TwoLocal(\n",
    "    num_qubits=NUM_QUBITS,\n",
    "    rotation_blocks=ROTATION_BLOCKS,\n",
    "    entanglement_blocks=ENTANGLEMENT_BLOCKS,\n",
    "    entanglement='linear',\n",
    "    reps=REPS,\n",
    "    insert_barriers=INSERT_BARRIES,\n",
    ")\n",
    "linear_ansatz.decompose().draw(\"mpl\", style=\"iqx\")\n",
    "%store linear_ansatz"
   ]
  },
  {
   "cell_type": "markdown",
   "metadata": {},
   "source": [
    "### Full entanglement ansatz"
   ]
  },
  {
   "cell_type": "code",
   "execution_count": 9,
   "metadata": {},
   "outputs": [
    {
     "name": "stdout",
     "output_type": "stream",
     "text": [
      "Stored 'full_ansatz' (TwoLocal)\n"
     ]
    }
   ],
   "source": [
    "full_ansatz = TwoLocal(\n",
    "    num_qubits=NUM_QUBITS,\n",
    "    rotation_blocks=ROTATION_BLOCKS,\n",
    "    entanglement_blocks=ENTANGLEMENT_BLOCKS,\n",
    "    entanglement='full',\n",
    "    reps=REPS,\n",
    "    insert_barriers=INSERT_BARRIES,\n",
    ")\n",
    "full_ansatz.decompose().draw(\"mpl\", style=\"iqx\")\n",
    "%store full_ansatz"
   ]
  },
  {
   "cell_type": "markdown",
   "metadata": {},
   "source": [
    "### Circular entanglement ansatz"
   ]
  },
  {
   "cell_type": "code",
   "execution_count": 10,
   "metadata": {},
   "outputs": [
    {
     "name": "stdout",
     "output_type": "stream",
     "text": [
      "Stored 'circular_ansatz' (TwoLocal)\n"
     ]
    }
   ],
   "source": [
    "circular_ansatz = TwoLocal(\n",
    "    num_qubits=NUM_QUBITS,\n",
    "    rotation_blocks=ROTATION_BLOCKS,\n",
    "    entanglement_blocks=ENTANGLEMENT_BLOCKS,\n",
    "    entanglement='circular',\n",
    "    reps=REPS,\n",
    "    insert_barriers=INSERT_BARRIES,\n",
    ")\n",
    "circular_ansatz.decompose().draw(\"mpl\", style=\"iqx\")\n",
    "%store circular_ansatz"
   ]
  },
  {
   "cell_type": "markdown",
   "metadata": {},
   "source": [
    "### Pairwise entanglement ansatz"
   ]
  },
  {
   "cell_type": "code",
   "execution_count": 11,
   "metadata": {},
   "outputs": [
    {
     "name": "stdout",
     "output_type": "stream",
     "text": [
      "Stored 'pairwise_ansatz' (TwoLocal)\n"
     ]
    }
   ],
   "source": [
    "pairwise_ansatz = TwoLocal(\n",
    "    num_qubits=NUM_QUBITS,\n",
    "    rotation_blocks=ROTATION_BLOCKS,\n",
    "    entanglement_blocks=ENTANGLEMENT_BLOCKS,\n",
    "    entanglement='pairwise',\n",
    "    reps=REPS,\n",
    "    insert_barriers=INSERT_BARRIES,\n",
    ")\n",
    "pairwise_ansatz.decompose().draw(\"mpl\", style=\"iqx\")\n",
    "%store pairwise_ansatz"
   ]
  }
 ],
 "metadata": {
  "kernelspec": {
   "display_name": "env",
   "language": "python",
   "name": "python3"
  },
  "language_info": {
   "codemirror_mode": {
    "name": "ipython",
    "version": 3
   },
   "file_extension": ".py",
   "mimetype": "text/x-python",
   "name": "python",
   "nbconvert_exporter": "python",
   "pygments_lexer": "ipython3",
   "version": "3.8.18"
  }
 },
 "nbformat": 4,
 "nbformat_minor": 2
}
