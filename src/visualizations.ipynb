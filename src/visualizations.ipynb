{
 "cells": [
  {
   "cell_type": "markdown",
   "metadata": {},
   "source": [
    "# Visualizations\n",
    "This notebook contains all visualizations of qubits, gates, and quantum circuits used in the thesis."
   ]
  },
  {
   "cell_type": "code",
   "execution_count": null,
   "metadata": {},
   "outputs": [],
   "source": [
    "%pip install qutip mayavi pdf2image pdflatex\n",
    "SAVE_DIRECTORY = '../images/'"
   ]
  },
  {
   "cell_type": "markdown",
   "metadata": {},
   "source": [
    "## X gate rotation"
   ]
  },
  {
   "cell_type": "code",
   "execution_count": null,
   "metadata": {},
   "outputs": [],
   "source": [
    "from qutip import *\n",
    "import numpy as np  \n",
    "\n",
    "initial_state = basis(2, 0)\n",
    "x_gate = sigmax()\n",
    "final_state = x_gate * initial_state\n",
    "\n",
    "b = Bloch()\n",
    "b.point_color = ['b']\n",
    "b.vector_color = ['b']\n",
    "b.vector_width = 4\n",
    "\n",
    "b.add_states(final_state)\n",
    "\n",
    "point_count = 25\n",
    "\n",
    "th = np.linspace(0, -np.pi, point_count)\n",
    "xz = np.zeros(point_count)\n",
    "yz = np.sin(th)\n",
    "zz = np.cos(th)\n",
    "\n",
    "b.add_points([xz, yz, zz])\n",
    "b.render()\n",
    "b.save(name=SAVE_DIRECTORY+'qubit-x-gate.pdf')\n",
    "b.show()"
   ]
  },
  {
   "cell_type": "markdown",
   "metadata": {},
   "source": [
    "## X gate icon"
   ]
  },
  {
   "cell_type": "code",
   "execution_count": null,
   "metadata": {},
   "outputs": [],
   "source": [
    "from qiskit import QuantumCircuit\n",
    "\n",
    "qc = QuantumCircuit(1)\n",
    "qc.x(0)\n",
    "\n",
    "qc.draw('mpl', filename=f'{SAVE_DIRECTORY}gate-x.pdf')"
   ]
  },
  {
   "cell_type": "markdown",
   "metadata": {},
   "source": [
    "## Y gate rotation"
   ]
  },
  {
   "cell_type": "code",
   "execution_count": null,
   "metadata": {},
   "outputs": [],
   "source": [
    "from qutip import *\n",
    "import numpy as np  \n",
    "\n",
    "initial_state = basis(2, 0)\n",
    "y_gate = sigmay()\n",
    "final_state = y_gate * initial_state\n",
    "\n",
    "b = Bloch()\n",
    "b.point_color = ['b']\n",
    "b.vector_color = ['b']\n",
    "b.vector_width = 4\n",
    "\n",
    "b.add_states(final_state)\n",
    "\n",
    "point_count = 25\n",
    "\n",
    "th = np.linspace(0, np.pi, point_count)\n",
    "yz = np.zeros(point_count)\n",
    "xz = np.sin(th)\n",
    "zz = np.cos(th)\n",
    "\n",
    "b.add_points([xz, yz, zz])\n",
    "b.render()\n",
    "b.save(name=SAVE_DIRECTORY+'qubit-y-gate.pdf')\n",
    "b.show()"
   ]
  },
  {
   "cell_type": "markdown",
   "metadata": {},
   "source": [
    "## Y gate icon"
   ]
  },
  {
   "cell_type": "code",
   "execution_count": null,
   "metadata": {},
   "outputs": [],
   "source": [
    "from qiskit import QuantumCircuit\n",
    "\n",
    "qc = QuantumCircuit(1)\n",
    "qc.y(0)\n",
    "\n",
    "qc.draw('mpl', filename=f'{SAVE_DIRECTORY}gate-y.pdf')"
   ]
  },
  {
   "cell_type": "markdown",
   "metadata": {},
   "source": [
    "## Z gate rotation"
   ]
  },
  {
   "cell_type": "code",
   "execution_count": null,
   "metadata": {},
   "outputs": [],
   "source": [
    "from qutip import *\n",
    "import numpy as np  \n",
    "\n",
    "final_state = [[-1, 0, 0]]\n",
    "\n",
    "\n",
    "b = Bloch()\n",
    "b.point_color = ['b']\n",
    "b.vector_color = ['b']\n",
    "b.vector_width = 4\n",
    "\n",
    "b.add_vectors(final_state)\n",
    "\n",
    "point_count = 25\n",
    "\n",
    "th = np.linspace(0, np.pi, point_count)\n",
    "zz = np.zeros(point_count)\n",
    "xz = np.cos(th)\n",
    "yz = np.sin(th)\n",
    "\n",
    "b.add_points([xz, yz, zz])\n",
    "b.render()\n",
    "b.save(name=SAVE_DIRECTORY+'qubit-z-gate.pdf')\n",
    "b.show()"
   ]
  },
  {
   "cell_type": "markdown",
   "metadata": {},
   "source": [
    "## Z gate icon"
   ]
  },
  {
   "cell_type": "code",
   "execution_count": null,
   "metadata": {},
   "outputs": [],
   "source": [
    "from qiskit import QuantumCircuit\n",
    "\n",
    "qc = QuantumCircuit(1)\n",
    "qc.z(0)\n",
    "\n",
    "qc.draw('mpl', filename=f'{SAVE_DIRECTORY}gate-z.pdf')"
   ]
  },
  {
   "cell_type": "markdown",
   "metadata": {},
   "source": [
    "## Hadamard gate icon"
   ]
  },
  {
   "cell_type": "code",
   "execution_count": null,
   "metadata": {},
   "outputs": [],
   "source": [
    "from qiskit import QuantumCircuit\n",
    "\n",
    "qc = QuantumCircuit(1)\n",
    "qc.h(0)\n",
    "\n",
    "qc.draw('mpl', filename=f'{SAVE_DIRECTORY}gate-hadamard.pdf')"
   ]
  },
  {
   "cell_type": "markdown",
   "metadata": {},
   "source": [
    "## CNOT gate icon"
   ]
  },
  {
   "cell_type": "code",
   "execution_count": null,
   "metadata": {},
   "outputs": [],
   "source": [
    "from qiskit import QuantumCircuit\n",
    "\n",
    "qc = QuantumCircuit(2)\n",
    "qc.cx(0,1)\n",
    "\n",
    "qc.draw('mpl', filename=f'{SAVE_DIRECTORY}gate-cnot.pdf')"
   ]
  },
  {
   "cell_type": "markdown",
   "metadata": {},
   "source": [
    "## Measurement icon"
   ]
  },
  {
   "cell_type": "code",
   "execution_count": null,
   "metadata": {},
   "outputs": [],
   "source": [
    "from qiskit import QuantumCircuit\n",
    "\n",
    "qc = QuantumCircuit(1)\n",
    "qc.measure(0,0)\n",
    "\n",
    "qc.draw('mpl', scale=10)"
   ]
  },
  {
   "cell_type": "markdown",
   "metadata": {},
   "source": [
    "## Ansatz expressibility"
   ]
  },
  {
   "cell_type": "markdown",
   "metadata": {},
   "source": [
    "### RY circuit"
   ]
  },
  {
   "cell_type": "code",
   "execution_count": null,
   "metadata": {},
   "outputs": [],
   "source": [
    "from qutip import *\n",
    "import numpy as np\n",
    "from qiskit.circuit import Parameter, QuantumCircuit\n",
    "from qiskit.quantum_info import Statevector\n",
    "\n",
    "np.random.seed(0)\n",
    "num_param = 200\n",
    "\n",
    "x_param = Parameter('θ')\n",
    "\n",
    "qc = QuantumCircuit(1)\n",
    "qc.ry(x_param, 0)\n",
    "\n",
    "theta = [2*np.pi*np.random.uniform() for i in range(num_param)]\n",
    "\n",
    "b = Bloch()\n",
    "b.point_color = ['b']\n",
    "b.vector_color = ['b']\n",
    "b.point_marker = ['o']\n",
    "b.vector_width = 4\n",
    "b.point_size = [20]\n",
    "\n",
    "def state_to_bloch(state_vec):\n",
    "    phi = np.angle(state_vec.data[1])-np.angle(state_vec.data[0])\n",
    "    theta = 2*np.arccos(np.abs(state_vec.data[0]))\n",
    "    return [np.sin(theta)*np.cos(phi), np.sin(theta)*np.sin(phi), np.cos(theta)]\n",
    "\n",
    "for i in range(num_param):\n",
    "    state = Statevector.from_instruction(\n",
    "        qc.assign_parameters({x_param: theta[i]}))\n",
    "    b.add_points(state_to_bloch(state))\n",
    "\n",
    "b.save(name=SAVE_DIRECTORY+'expressibility-ry-qubit.pdf')\n",
    "b.show()\n",
    "qc.draw(output='mpl', filename=f'{SAVE_DIRECTORY}expressibility-ry-circuit.pdf')"
   ]
  },
  {
   "cell_type": "markdown",
   "metadata": {},
   "source": [
    "### H-RZ-RX circuit"
   ]
  },
  {
   "cell_type": "code",
   "execution_count": null,
   "metadata": {},
   "outputs": [],
   "source": [
    "from qutip import *\n",
    "import numpy as np\n",
    "from qiskit.circuit import Parameter, QuantumCircuit\n",
    "from qiskit.quantum_info import Statevector\n",
    "\n",
    "np.random.seed(0)\n",
    "num_param = 1000\n",
    "\n",
    "x_param = Parameter('θ')\n",
    "y_param = Parameter('φ')\n",
    "\n",
    "qc = QuantumCircuit(1)\n",
    "qc.h(0)\n",
    "qc.rz(x_param, 0)\n",
    "qc.rx(y_param, 0)\n",
    "\n",
    "theta = [2*np.pi*np.random.uniform() for i in range(num_param)]\n",
    "phi = [2*np.pi*np.random.uniform() for i in range(num_param)]\n",
    "\n",
    "b = Bloch()\n",
    "b.point_color = ['b']\n",
    "b.vector_color = ['b']\n",
    "b.point_marker = ['o']\n",
    "b.vector_width = 4\n",
    "b.point_size = [20]\n",
    "\n",
    "def state_to_bloch(state_vec):\n",
    "    phi = np.angle(state_vec.data[1])-np.angle(state_vec.data[0])\n",
    "    theta = 2*np.arccos(np.abs(state_vec.data[0]))\n",
    "    return [np.sin(theta)*np.cos(phi), np.sin(theta)*np.sin(phi), np.cos(theta)]\n",
    "\n",
    "for i in range(num_param):\n",
    "    state = Statevector.from_instruction(\n",
    "        qc.assign_parameters({x_param: theta[i], y_param: phi[i]}))\n",
    "    b.add_points(state_to_bloch(state))\n",
    "\n",
    "b.save(name=SAVE_DIRECTORY+'expressibility-hrzrx-qubit.pdf')\n",
    "b.show()\n",
    "qc.draw(output='mpl', filename=f'{SAVE_DIRECTORY}expressibility-hrzrx-circuit.pdf')"
   ]
  },
  {
   "cell_type": "markdown",
   "metadata": {},
   "source": [
    "## Circuit depth\n",
    "\n",
    "### circuit depth = 1"
   ]
  },
  {
   "cell_type": "code",
   "execution_count": null,
   "metadata": {},
   "outputs": [],
   "source": [
    "from qiskit import QuantumCircuit\n",
    "\n",
    "qc = QuantumCircuit(1)\n",
    "qc.x(0)\n",
    "qc.draw(output='mpl', filename=f'{SAVE_DIRECTORY}circuit-depth-1.pdf')"
   ]
  },
  {
   "cell_type": "markdown",
   "metadata": {},
   "source": [
    "### circuit depth = 3"
   ]
  },
  {
   "cell_type": "code",
   "execution_count": null,
   "metadata": {},
   "outputs": [],
   "source": [
    "from qiskit import QuantumCircuit\n",
    "\n",
    "qc = QuantumCircuit(1)\n",
    "qc.x(0)\n",
    "qc.y(0)\n",
    "qc.h(0)\n",
    "\n",
    "qc.draw(output='mpl', filename=f'{SAVE_DIRECTORY}circuit-depth-3.pdf')"
   ]
  },
  {
   "cell_type": "markdown",
   "metadata": {},
   "source": [
    "### circuit depth = 6"
   ]
  },
  {
   "cell_type": "code",
   "execution_count": null,
   "metadata": {},
   "outputs": [],
   "source": [
    "from qiskit import QuantumCircuit\n",
    "\n",
    "qc = QuantumCircuit(2)\n",
    "qc.x(0)\n",
    "qc.y(0)\n",
    "qc.h(0)\n",
    "qc.z(0)\n",
    "qc.cx(1,0)\n",
    "qc.h(1)\n",
    "\n",
    "qc.draw(output='mpl', filename=f'{SAVE_DIRECTORY}circuit-depth-6.pdf')"
   ]
  },
  {
   "cell_type": "markdown",
   "metadata": {},
   "source": [
    "## Ansatzes"
   ]
  },
  {
   "cell_type": "code",
   "execution_count": null,
   "metadata": {},
   "outputs": [],
   "source": [
    "from qiskit.circuit.library import TwoLocal\n",
    "\n",
    "NUM_QUBITS = 4\n",
    "INSERT_BARRIES = True\n",
    "ROTATION_BLOCKS = ['ry']\n",
    "ENTANGLEMENT_BLOCKS = ['cx']\n",
    "REPS = 2"
   ]
  },
  {
   "cell_type": "markdown",
   "metadata": {},
   "source": [
    "### Linear ansatz"
   ]
  },
  {
   "cell_type": "code",
   "execution_count": null,
   "metadata": {},
   "outputs": [],
   "source": [
    "linear_ansatz = TwoLocal(\n",
    "    num_qubits=NUM_QUBITS,\n",
    "    rotation_blocks=ROTATION_BLOCKS,\n",
    "    entanglement_blocks=ENTANGLEMENT_BLOCKS,\n",
    "    entanglement='linear',\n",
    "    reps=REPS,\n",
    "    insert_barriers=INSERT_BARRIES,\n",
    ")\n",
    "linear_ansatz.decompose().draw(\"mpl\", filename=f'{SAVE_DIRECTORY}ansatz-linear.pdf')"
   ]
  },
  {
   "cell_type": "markdown",
   "metadata": {},
   "source": [
    "### Reverse linear ansatz"
   ]
  },
  {
   "cell_type": "code",
   "execution_count": null,
   "metadata": {},
   "outputs": [],
   "source": [
    "reverse_linear_ansatz = TwoLocal(\n",
    "    num_qubits=NUM_QUBITS,\n",
    "    rotation_blocks=ROTATION_BLOCKS,\n",
    "    entanglement_blocks=ENTANGLEMENT_BLOCKS,\n",
    "    entanglement='reverse_linear',\n",
    "    reps=REPS,\n",
    "    insert_barriers=INSERT_BARRIES,\n",
    ")\n",
    "reverse_linear_ansatz.decompose().draw(\"mpl\", filename=f'{SAVE_DIRECTORY}ansatz-reverse-linear.pdf')"
   ]
  },
  {
   "cell_type": "markdown",
   "metadata": {},
   "source": [
    "### Full ansatz"
   ]
  },
  {
   "cell_type": "code",
   "execution_count": null,
   "metadata": {},
   "outputs": [],
   "source": [
    "full_ansatz = TwoLocal(\n",
    "    num_qubits=NUM_QUBITS,\n",
    "    rotation_blocks=ROTATION_BLOCKS,\n",
    "    entanglement_blocks=ENTANGLEMENT_BLOCKS,\n",
    "    entanglement='full',\n",
    "    reps=REPS,\n",
    "    insert_barriers=True\n",
    ")\n",
    "full_ansatz.decompose().draw(\"mpl\", filename=f'{SAVE_DIRECTORY}ansatz-full.pdf')"
   ]
  },
  {
   "cell_type": "markdown",
   "metadata": {},
   "source": [
    "### Circular ansatz"
   ]
  },
  {
   "cell_type": "code",
   "execution_count": null,
   "metadata": {},
   "outputs": [],
   "source": [
    "circular_ansatz = TwoLocal(\n",
    "    num_qubits=NUM_QUBITS,\n",
    "    rotation_blocks=ROTATION_BLOCKS,\n",
    "    entanglement_blocks=ENTANGLEMENT_BLOCKS,\n",
    "    entanglement='circular',\n",
    "    reps=REPS,\n",
    "    insert_barriers=INSERT_BARRIES,\n",
    ")\n",
    "circular_ansatz.decompose().draw(\"mpl\", filename=f'{SAVE_DIRECTORY}ansatz-circular.pdf')"
   ]
  },
  {
   "cell_type": "markdown",
   "metadata": {},
   "source": [
    "### Pairwise ansatz"
   ]
  },
  {
   "cell_type": "code",
   "execution_count": null,
   "metadata": {},
   "outputs": [],
   "source": [
    "pairwise_ansatz = TwoLocal(\n",
    "    num_qubits=NUM_QUBITS,\n",
    "    rotation_blocks=ROTATION_BLOCKS,\n",
    "    entanglement_blocks=ENTANGLEMENT_BLOCKS,\n",
    "    entanglement='pairwise',\n",
    "    reps=REPS,\n",
    "    insert_barriers=INSERT_BARRIES,\n",
    ")\n",
    "pairwise_ansatz.decompose().draw(\"mpl\", filename=f'{SAVE_DIRECTORY}ansatz-pairwise.pdf')"
   ]
  },
  {
   "cell_type": "markdown",
   "metadata": {},
   "source": [
    "### SCA ansatz (shifted circular alternating)"
   ]
  },
  {
   "cell_type": "code",
   "execution_count": null,
   "metadata": {},
   "outputs": [],
   "source": [
    "sca_ansatz = TwoLocal(\n",
    "    num_qubits=NUM_QUBITS,\n",
    "    rotation_blocks=ROTATION_BLOCKS,\n",
    "    entanglement_blocks=ENTANGLEMENT_BLOCKS,\n",
    "    entanglement='sca',\n",
    "    reps=REPS,\n",
    "    insert_barriers=INSERT_BARRIES,\n",
    ")\n",
    "sca_ansatz.decompose().draw(\"mpl\", filename=f'{SAVE_DIRECTORY}ansatz-sca.pdf')"
   ]
  },
  {
   "cell_type": "markdown",
   "metadata": {},
   "source": [
    "### Bell state circuit"
   ]
  },
  {
   "cell_type": "code",
   "execution_count": null,
   "metadata": {},
   "outputs": [],
   "source": [
    "from qiskit.circuit import QuantumCircuit\n",
    "\n",
    "qc = QuantumCircuit(2)\n",
    "qc.h(0)\n",
    "qc.cx(0,1)\n",
    "qc.draw(\"mpl\", filename=f'{SAVE_DIRECTORY}entanglement-circuit.pdf')"
   ]
  }
 ],
 "metadata": {
  "kernelspec": {
   "display_name": "env",
   "language": "python",
   "name": "python3"
  },
  "language_info": {
   "codemirror_mode": {
    "name": "ipython",
    "version": 3
   },
   "file_extension": ".py",
   "mimetype": "text/x-python",
   "name": "python",
   "nbconvert_exporter": "python",
   "pygments_lexer": "ipython3",
   "version": "3.11.6"
  }
 },
 "nbformat": 4,
 "nbformat_minor": 2
}
