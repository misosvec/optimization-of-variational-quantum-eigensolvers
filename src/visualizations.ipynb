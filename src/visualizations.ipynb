{
 "cells": [
  {
   "cell_type": "markdown",
   "metadata": {},
   "source": [
    "# Visualizations\n",
    "This notebook contains all the visualizations that are used in thesis."
   ]
  },
  {
   "cell_type": "code",
   "execution_count": null,
   "metadata": {},
   "outputs": [],
   "source": [
    "# %pip install qutip\n",
    "# %pip install mayavi\n",
    "%pip install pdf2image\n",
    "%pip install pdflatex"
   ]
  },
  {
   "cell_type": "code",
   "execution_count": null,
   "metadata": {},
   "outputs": [],
   "source": [
    "SAVE_DIRECTORY = '../images/'"
   ]
  },
  {
   "cell_type": "markdown",
   "metadata": {},
   "source": [
    "## Qubit in zero state (initial state)"
   ]
  },
  {
   "cell_type": "code",
   "execution_count": null,
   "metadata": {},
   "outputs": [],
   "source": [
    "from qutip import *\n",
    "\n",
    "b = Bloch()\n",
    "b.vector_color = ['b']\n",
    "b.vector_width = 4\n",
    "\n",
    "initial_state = basis(2, 0)\n",
    "b.add_states(initial_state)\n",
    "b.save(name=SAVE_DIRECTORY+'qubit-zero-state.png', dpin=400)\n",
    "b.show()"
   ]
  },
  {
   "cell_type": "markdown",
   "metadata": {},
   "source": [
    "## X-gate rotation"
   ]
  },
  {
   "cell_type": "code",
   "execution_count": null,
   "metadata": {},
   "outputs": [],
   "source": [
    "from qutip import *\n",
    "import numpy as np  \n",
    "\n",
    "initial_state = basis(2, 0)\n",
    "x_gate = sigmax()\n",
    "final_state = x_gate * initial_state\n",
    "\n",
    "b = Bloch()\n",
    "b.point_color = ['b']\n",
    "b.vector_color = ['b']\n",
    "b.vector_width = 4\n",
    "\n",
    "b.add_states(final_state)\n",
    "\n",
    "point_count = 25\n",
    "\n",
    "th = np.linspace(0, -np.pi, point_count)\n",
    "xz = np.zeros(point_count)\n",
    "yz = np.sin(th)\n",
    "zz = np.cos(th)\n",
    "\n",
    "b.add_points([xz, yz, zz])\n",
    "b.render()\n",
    "b.save(name=SAVE_DIRECTORY+'qubit-x-gate.png', dpin=400)\n",
    "b.show()"
   ]
  },
  {
   "cell_type": "markdown",
   "metadata": {},
   "source": [
    "## X-gate icon"
   ]
  },
  {
   "cell_type": "code",
   "execution_count": null,
   "metadata": {},
   "outputs": [],
   "source": [
    "from qiskit import QuantumCircuit\n",
    "\n",
    "q = QuantumCircuit(1)\n",
    "qc = QuantumCircuit(1)\n",
    "qc.x(0)\n",
    "\n",
    "qc.draw('mpl', scale=10)"
   ]
  },
  {
   "cell_type": "markdown",
   "metadata": {},
   "source": [
    "## Y-gate rotation"
   ]
  },
  {
   "cell_type": "code",
   "execution_count": null,
   "metadata": {},
   "outputs": [],
   "source": [
    "from qutip import *\n",
    "import numpy as np  \n",
    "\n",
    "initial_state = basis(2, 0)\n",
    "y_gate = sigmay()\n",
    "final_state = y_gate * initial_state\n",
    "\n",
    "b = Bloch()\n",
    "b.point_color = ['b']\n",
    "b.vector_color = ['b']\n",
    "b.vector_width = 4\n",
    "\n",
    "b.add_states(final_state)\n",
    "\n",
    "point_count = 25\n",
    "\n",
    "th = np.linspace(0, np.pi, point_count)\n",
    "yz = np.zeros(point_count)\n",
    "xz = np.sin(th)\n",
    "zz = np.cos(th)\n",
    "\n",
    "b.add_points([xz, yz, zz])\n",
    "b.render()\n",
    "b.save(name=SAVE_DIRECTORY+'qubit-y-gate.png', dpin=400)\n",
    "b.show()"
   ]
  },
  {
   "cell_type": "markdown",
   "metadata": {},
   "source": [
    "## Z-gate rotation"
   ]
  },
  {
   "cell_type": "code",
   "execution_count": null,
   "metadata": {},
   "outputs": [],
   "source": [
    "from qutip import *\n",
    "\n",
    "vec = [[1, 0, 0]]\n",
    "\n",
    "b = Bloch()\n",
    "b.point_color = ['b']\n",
    "b.vector_color = ['b']\n",
    "b.vector_width = 4\n",
    "\n",
    "b.add_vectors(vec)\n",
    "# b.save(name=SAVE_DIRECTORY+'qubit-superposition.png', dpin=400)\n",
    "b.show()"
   ]
  },
  {
   "cell_type": "code",
   "execution_count": null,
   "metadata": {},
   "outputs": [],
   "source": [
    "from qutip import *\n",
    "import numpy as np  \n",
    "\n",
    "final_state = [[-1, 0, 0]]\n",
    "\n",
    "\n",
    "b = Bloch()\n",
    "b.point_color = ['b']\n",
    "b.vector_color = ['b']\n",
    "b.vector_width = 4\n",
    "\n",
    "b.add_vectors(final_state)\n",
    "\n",
    "point_count = 25\n",
    "\n",
    "th = np.linspace(0, np.pi, point_count)\n",
    "zz = np.zeros(point_count)\n",
    "xz = np.cos(th)\n",
    "yz = np.sin(th)\n",
    "\n",
    "b.add_points([xz, yz, zz])\n",
    "b.render()\n",
    "b.save(name=SAVE_DIRECTORY+'qubit-z-gate.png', dpin=400)\n",
    "b.show()"
   ]
  },
  {
   "cell_type": "markdown",
   "metadata": {},
   "source": [
    "## Measurement icon"
   ]
  },
  {
   "cell_type": "code",
   "execution_count": null,
   "metadata": {},
   "outputs": [],
   "source": [
    "from qiskit import QuantumCircuit\n",
    "\n",
    "qc = QuantumCircuit(1)\n",
    "qc.measure(0,0)\n",
    "\n",
    "qc.draw('mpl', scale=10)"
   ]
  },
  {
   "cell_type": "markdown",
   "metadata": {},
   "source": [
    "## Qiskit tool for transitions"
   ]
  },
  {
   "cell_type": "code",
   "execution_count": null,
   "metadata": {},
   "outputs": [],
   "source": [
    "from qiskit import QuantumCircuit\n",
    "from qiskit.visualization import visualize_transition, plot_bloch_vector\n",
    "\n",
    "qc = QuantumCircuit(1)\n",
    "qc.h(0)\n",
    "qc.z(0)\n",
    "\n",
    "qc.draw()\n",
    "\n",
    "# plot_bloch_vector([0,1,0], title='My Bloch Sphere')\n",
    "visualize_transition(circuit=qc, trace=True)"
   ]
  },
  {
   "cell_type": "markdown",
   "metadata": {},
   "source": [
    "## Shots distribution on statevector"
   ]
  },
  {
   "cell_type": "code",
   "execution_count": null,
   "metadata": {},
   "outputs": [],
   "source": [
    "import qiskit\n",
    "from qiskit_aer import AerSimulator\n",
    "from qiskit.visualization import plot_histogram\n",
    "import matplotlib.pyplot as plt\n",
    "\n",
    "# each state is equally likely\n",
    "circ = qiskit.QuantumCircuit(3)\n",
    "circ.h(0)\n",
    "circ.h(1)\n",
    "circ.h(2)\n",
    "circ.measure_all()\n",
    "\n",
    "# Construct an ideal simulator\n",
    "aersim = AerSimulator()\n",
    "\n",
    "# Perform an ideal simulation\n",
    "result_ideal1 = qiskit.execute(circ, aersim, shots=500).result()\n",
    "counts_ideal1 = result_ideal1.get_counts(0)\n",
    "\n",
    "result_ideal2 = qiskit.execute(circ, aersim, shots=5000).result()\n",
    "counts_ideal2 = result_ideal2.get_counts(0)\n",
    "\n",
    "print(counts_ideal1)\n",
    "print(counts_ideal2)\n",
    "\n",
    "plot_histogram(counts_ideal1)\n",
    "# plot_histogram(counts_ideal2)\n",
    "\n",
    "# plt, (ax1, ax2) = plt.subplots(1, 2, figsize=(10, 5))\n",
    "# ax1.hist(counts_ideal1)\n",
    "# ax2.hist(counts_ideal2)\n",
    "\n",
    "# plt.show()"
   ]
  },
  {
   "cell_type": "code",
   "execution_count": null,
   "metadata": {},
   "outputs": [],
   "source": [
    "import matplotlib.pyplot as plt\n",
    "\n",
    "# Sorting data based on keys\n",
    "sorted_data1 = dict(sorted(counts_ideal1.items()))\n",
    "sorted_data2 = dict(sorted(counts_ideal2.items()))\n",
    "\n",
    "# Extracting keys and values from sorted dictionaries\n",
    "labels1, values1 = zip(*sorted_data1.items())\n",
    "labels2, values2 = zip(*sorted_data2.items())\n",
    "\n",
    "# Creating subplots\n",
    "fig, axs = plt.subplots(1, 2, figsize=(10, 4), dpi=200)\n",
    "\n",
    "# Plotting the first histogram\n",
    "bars1 = axs[0].bar(labels1, values1, color='blue', alpha=0.7)\n",
    "axs[0].set_title('500 shots', fontsize=12)  # Set title font size\n",
    "\n",
    "# Adding counts above each bar in the first histogram\n",
    "for bar, count in zip(bars1, values1):\n",
    "    axs[0].text(bar.get_x() + bar.get_width() / 2, bar.get_height(), str(count),\n",
    "                ha='center', va='bottom', color='black', fontsize=12, zorder=2)\n",
    "\n",
    "# Plotting the second histogram\n",
    "bars2 = axs[1].bar(labels2, values2, color='orange', alpha=0.7)\n",
    "axs[1].set_title('5000 shots', fontsize=12)  # Set title font size\n",
    "\n",
    "# Adding counts above each bar in the second histogram\n",
    "for bar, count in zip(bars2, values2):\n",
    "    axs[1].text(bar.get_x() + bar.get_width() / 2, bar.get_height(), str(count),\n",
    "                ha='center', va='bottom', color='black', fontsize=12, zorder=2)\n",
    "\n",
    "# Set axis label font size\n",
    "for ax in axs:\n",
    "    ax.tick_params(axis='both', labelsize=12)\n",
    "\n",
    "# Adjusting layout and spacing\n",
    "plt.tight_layout()\n",
    "axs[0].margins(y=0.1)\n",
    "axs[1].margins(y=0.1)\n",
    "\n",
    "# Display the plot\n",
    "plt.show()\n"
   ]
  },
  {
   "cell_type": "markdown",
   "metadata": {},
   "source": [
    "## Ansatz expressibility"
   ]
  },
  {
   "cell_type": "markdown",
   "metadata": {},
   "source": [
    "### RY circuit"
   ]
  },
  {
   "cell_type": "code",
   "execution_count": null,
   "metadata": {},
   "outputs": [],
   "source": [
    "from qutip import *\n",
    "import numpy as np\n",
    "from qiskit.circuit import Parameter, QuantumCircuit\n",
    "from qiskit.quantum_info import Statevector\n",
    "\n",
    "np.random.seed(0)\n",
    "num_param = 200\n",
    "\n",
    "x_param = Parameter('θ')\n",
    "\n",
    "qc = QuantumCircuit(1)\n",
    "qc.ry(x_param, 0)\n",
    "\n",
    "theta = [2*np.pi*np.random.uniform() for i in range(num_param)]\n",
    "\n",
    "b = Bloch()\n",
    "b.point_color = ['b']\n",
    "b.vector_color = ['b']\n",
    "b.point_marker = ['o']\n",
    "b.vector_width = 4\n",
    "b.point_size = [20]\n",
    "\n",
    "def state_to_bloch(state_vec):\n",
    "    phi = np.angle(state_vec.data[1])-np.angle(state_vec.data[0])\n",
    "    theta = 2*np.arccos(np.abs(state_vec.data[0]))\n",
    "    return [np.sin(theta)*np.cos(phi), np.sin(theta)*np.sin(phi), np.cos(theta)]\n",
    "\n",
    "for i in range(num_param):\n",
    "    state = Statevector.from_instruction(\n",
    "        qc.assign_parameters({x_param: theta[i]}))\n",
    "    b.add_points(state_to_bloch(state))\n",
    "\n",
    "b.save(name=SAVE_DIRECTORY+'expressibility-ry-qubit.png', dpin=400)\n",
    "b.show()\n",
    "qc.draw(output='mpl', style={\n",
    "        'dpi': 400}, filename=f'{SAVE_DIRECTORY}expressibility-ry-circuit.png')"
   ]
  },
  {
   "cell_type": "markdown",
   "metadata": {},
   "source": [
    "### H-RZ-RX circuit"
   ]
  },
  {
   "cell_type": "code",
   "execution_count": null,
   "metadata": {},
   "outputs": [],
   "source": [
    "from qutip import *\n",
    "import numpy as np\n",
    "from qiskit.circuit import Parameter, QuantumCircuit\n",
    "from qiskit.quantum_info import Statevector\n",
    "\n",
    "np.random.seed(0)\n",
    "num_param = 1000\n",
    "\n",
    "x_param = Parameter('θ')\n",
    "y_param = Parameter('φ')\n",
    "\n",
    "qc = QuantumCircuit(1)\n",
    "qc.h(0)\n",
    "qc.rz(x_param, 0)\n",
    "qc.rx(y_param, 0)\n",
    "\n",
    "theta = [2*np.pi*np.random.uniform() for i in range(num_param)]\n",
    "phi = [2*np.pi*np.random.uniform() for i in range(num_param)]\n",
    "\n",
    "b = Bloch()\n",
    "b.point_color = ['b']\n",
    "b.vector_color = ['b']\n",
    "b.point_marker = ['o']\n",
    "b.vector_width = 4\n",
    "b.point_size = [20]\n",
    "\n",
    "def state_to_bloch(state_vec):\n",
    "    phi = np.angle(state_vec.data[1])-np.angle(state_vec.data[0])\n",
    "    theta = 2*np.arccos(np.abs(state_vec.data[0]))\n",
    "    return [np.sin(theta)*np.cos(phi), np.sin(theta)*np.sin(phi), np.cos(theta)]\n",
    "\n",
    "for i in range(num_param):\n",
    "    state = Statevector.from_instruction(\n",
    "        qc.assign_parameters({x_param: theta[i], y_param: phi[i]}))\n",
    "    b.add_points(state_to_bloch(state))\n",
    "\n",
    "b.save(name=SAVE_DIRECTORY+'expressibility-hrzrx-qubit.png', dpin=400)\n",
    "b.show()\n",
    "qc.draw(output='mpl', style={\n",
    "        'dpi': 400}, filename=f'{SAVE_DIRECTORY}expressibility-hrzrx-circuit.png')"
   ]
  },
  {
   "cell_type": "markdown",
   "metadata": {},
   "source": [
    "## Circuit depth visualization\n",
    "\n",
    "### circuit depth = 1"
   ]
  },
  {
   "cell_type": "code",
   "execution_count": 8,
   "metadata": {},
   "outputs": [
    {
     "data": {
      "image/png": "[encoded data removed]",
      "text/plain": [
       "<Figure size 185.453x117.056 with 1 Axes>"
      ]
     },
     "execution_count": 8,
     "metadata": {},
     "output_type": "execute_result"
    }
   ],
   "source": [
    "from qiskit import QuantumCircuit\n",
    "\n",
    "qc = QuantumCircuit(1)\n",
    "qc.x(0)\n",
    "qc.draw(output='mpl', style={\n",
    "        'dpi': 400}, filename=f'{SAVE_DIRECTORY}circuit-depth-1.png')"
   ]
  },
  {
   "cell_type": "markdown",
   "metadata": {},
   "source": [
    "### circuit depth = 3"
   ]
  },
  {
   "cell_type": "code",
   "execution_count": 9,
   "metadata": {},
   "outputs": [
    {
     "data": {
      "image/png": "[encoded data removed]",
      "text/plain": [
       "<Figure size 352.675x117.056 with 1 Axes>"
      ]
     },
     "execution_count": 9,
     "metadata": {},
     "output_type": "execute_result"
    }
   ],
   "source": [
    "from qiskit import QuantumCircuit\n",
    "\n",
    "qc = QuantumCircuit(1)\n",
    "qc.x(0)\n",
    "qc.y(0)\n",
    "qc.h(0)\n",
    "\n",
    "qc.draw(output='mpl', style={\n",
    "        'dpi': 400}, filename=f'{SAVE_DIRECTORY}circuit-depth-3.png')"
   ]
  },
  {
   "cell_type": "markdown",
   "metadata": {},
   "source": [
    "### circuit depth = 6"
   ]
  },
  {
   "cell_type": "code",
   "execution_count": 11,
   "metadata": {},
   "outputs": [
    {
     "data": {
      "image/png": "[encoded data removed]",
      "text/plain": [
       "<Figure size 621.739x200.667 with 1 Axes>"
      ]
     },
     "execution_count": 11,
     "metadata": {},
     "output_type": "execute_result"
    }
   ],
   "source": [
    "from qiskit import QuantumCircuit\n",
    "\n",
    "qc = QuantumCircuit(2)\n",
    "qc.x(0)\n",
    "qc.y(0)\n",
    "qc.h(0)\n",
    "qc.z(0)\n",
    "qc.cx(1,0)\n",
    "qc.h(1)\n",
    "\n",
    "qc.draw(output='mpl', style={\n",
    "        'dpi': 400}, filename=f'{SAVE_DIRECTORY}circuit-depth-6.png')"
   ]
  }
 ],
 "metadata": {
  "kernelspec": {
   "display_name": "env",
   "language": "python",
   "name": "python3"
  },
  "language_info": {
   "codemirror_mode": {
    "name": "ipython",
    "version": 3
   },
   "file_extension": ".py",
   "mimetype": "text/x-python",
   "name": "python",
   "nbconvert_exporter": "python",
   "pygments_lexer": "ipython3",
   "version": "3.8.18"
  }
 },
 "nbformat": 4,
 "nbformat_minor": 2
}
