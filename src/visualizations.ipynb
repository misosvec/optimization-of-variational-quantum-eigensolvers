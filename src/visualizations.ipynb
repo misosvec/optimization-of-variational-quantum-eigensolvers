{
 "cells": [
  {
   "cell_type": "markdown",
   "metadata": {},
   "source": [
    "# Visualizations\n",
    "This notebook contains all the visualizations that are used in thesis."
   ]
  },
  {
   "cell_type": "code",
   "execution_count": null,
   "metadata": {},
   "outputs": [],
   "source": [
    "%pip install qutip\n",
    "%pip install mayavi"
   ]
  },
  {
   "cell_type": "code",
   "execution_count": null,
   "metadata": {},
   "outputs": [],
   "source": [
    "SAVE_DIRECTORY = '../images/'"
   ]
  },
  {
   "cell_type": "markdown",
   "metadata": {},
   "source": [
    "## Qubit in zero state (initial state)"
   ]
  },
  {
   "cell_type": "code",
   "execution_count": null,
   "metadata": {},
   "outputs": [],
   "source": [
    "from qutip import *\n",
    "\n",
    "b = Bloch()\n",
    "b.vector_color = ['b']\n",
    "b.vector_width = 4\n",
    "\n",
    "initial_state = basis(2, 0)\n",
    "b.add_states(initial_state)\n",
    "b.save(name=SAVE_DIRECTORY+'qubit-zero-state.png', dpin=400)\n",
    "b.show()"
   ]
  },
  {
   "cell_type": "markdown",
   "metadata": {},
   "source": [
    "## X-gate rotation"
   ]
  },
  {
   "cell_type": "code",
   "execution_count": null,
   "metadata": {},
   "outputs": [],
   "source": [
    "from qutip import *\n",
    "import numpy as np  \n",
    "\n",
    "initial_state = basis(2, 0)\n",
    "x_gate = sigmax()\n",
    "final_state = x_gate * initial_state\n",
    "\n",
    "b = Bloch()\n",
    "b.point_color = ['b']\n",
    "b.vector_color = ['b']\n",
    "b.vector_width = 4\n",
    "\n",
    "b.add_states(final_state)\n",
    "\n",
    "point_count = 25\n",
    "\n",
    "th = np.linspace(0, -np.pi, point_count)\n",
    "xz = np.zeros(point_count)\n",
    "yz = np.sin(th)\n",
    "zz = np.cos(th)\n",
    "\n",
    "b.add_points([xz, yz, zz])\n",
    "b.render()\n",
    "b.save(name=SAVE_DIRECTORY+'qubit-x-gate.png', dpin=400)\n",
    "b.show()"
   ]
  },
  {
   "cell_type": "markdown",
   "metadata": {},
   "source": [
    "## X-gate icon"
   ]
  },
  {
   "cell_type": "code",
   "execution_count": null,
   "metadata": {},
   "outputs": [],
   "source": [
    "from qiskit import QuantumCircuit\n",
    "\n",
    "q = QuantumCircuit(1)\n",
    "qc = QuantumCircuit(1)\n",
    "qc.x(0)\n",
    "\n",
    "qc.draw('mpl', scale=10)"
   ]
  },
  {
   "cell_type": "markdown",
   "metadata": {},
   "source": [
    "## Y-gate rotation"
   ]
  },
  {
   "cell_type": "code",
   "execution_count": null,
   "metadata": {},
   "outputs": [],
   "source": [
    "from qutip import *\n",
    "import numpy as np  \n",
    "\n",
    "initial_state = basis(2, 0)\n",
    "y_gate = sigmay()\n",
    "final_state = y_gate * initial_state\n",
    "\n",
    "b = Bloch()\n",
    "b.point_color = ['b']\n",
    "b.vector_color = ['b']\n",
    "b.vector_width = 4\n",
    "\n",
    "b.add_states(final_state)\n",
    "\n",
    "point_count = 25\n",
    "\n",
    "th = np.linspace(0, np.pi, point_count)\n",
    "yz = np.zeros(point_count)\n",
    "xz = np.sin(th)\n",
    "zz = np.cos(th)\n",
    "\n",
    "b.add_points([xz, yz, zz])\n",
    "b.render()\n",
    "b.save(name=SAVE_DIRECTORY+'qubit-y-gate.png', dpin=400)\n",
    "b.show()"
   ]
  },
  {
   "cell_type": "markdown",
   "metadata": {},
   "source": [
    "## Z-gate rotation"
   ]
  },
  {
   "cell_type": "code",
   "execution_count": null,
   "metadata": {},
   "outputs": [],
   "source": [
    "from qutip import *\n",
    "\n",
    "vec = [[1, 0, 0]]\n",
    "\n",
    "b = Bloch()\n",
    "b.point_color = ['b']\n",
    "b.vector_color = ['b']\n",
    "b.vector_width = 4\n",
    "\n",
    "b.add_vectors(vec)\n",
    "b.save(name=SAVE_DIRECTORY+'qubit-superposition.png', dpin=400)\n",
    "b.show()"
   ]
  },
  {
   "cell_type": "code",
   "execution_count": null,
   "metadata": {},
   "outputs": [],
   "source": [
    "from qutip import *\n",
    "import numpy as np  \n",
    "\n",
    "final_state = [[-1, 0, 0]]\n",
    "\n",
    "\n",
    "b = Bloch()\n",
    "b.point_color = ['b']\n",
    "b.vector_color = ['b']\n",
    "b.vector_width = 4\n",
    "\n",
    "b.add_vectors(final_state)\n",
    "\n",
    "point_count = 25\n",
    "\n",
    "th = np.linspace(0, np.pi, point_count)\n",
    "zz = np.zeros(point_count)\n",
    "xz = np.cos(th)\n",
    "yz = np.sin(th)\n",
    "\n",
    "b.add_points([xz, yz, zz])\n",
    "b.render()\n",
    "b.save(name=SAVE_DIRECTORY+'qubit-z-gate.png', dpin=400)\n",
    "b.show()"
   ]
  },
  {
   "cell_type": "markdown",
   "metadata": {},
   "source": [
    "## Qiskit tool for transitions"
   ]
  },
  {
   "cell_type": "code",
   "execution_count": null,
   "metadata": {},
   "outputs": [],
   "source": [
    "from qiskit import QuantumCircuit\n",
    "from qiskit.visualization import visualize_transition, plot_bloch_vector\n",
    "\n",
    "qc = QuantumCircuit(1)\n",
    "qc.h(0)\n",
    "qc.z(0)\n",
    "\n",
    "qc.draw()\n",
    "\n",
    "# plot_bloch_vector([0,1,0], title='My Bloch Sphere')\n",
    "visualize_transition(circuit=qc, trace=True)"
   ]
  }
 ],
 "metadata": {
  "kernelspec": {
   "display_name": "env",
   "language": "python",
   "name": "python3"
  },
  "language_info": {
   "codemirror_mode": {
    "name": "ipython",
    "version": 3
   },
   "file_extension": ".py",
   "mimetype": "text/x-python",
   "name": "python",
   "nbconvert_exporter": "python",
   "pygments_lexer": "ipython3",
   "version": "3.8.18"
  }
 },
 "nbformat": 4,
 "nbformat_minor": 2
}
